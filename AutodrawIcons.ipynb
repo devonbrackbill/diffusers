{
 "cells": [
  {
   "cell_type": "code",
   "execution_count": 1,
   "metadata": {},
   "outputs": [
    {
     "name": "stdout",
     "output_type": "stream",
     "text": [
      "Defaulting to user installation because normal site-packages is not writeable\n",
      "Collecting opencv-python\n",
      "  Downloading opencv_python-4.6.0.66-cp36-abi3-manylinux_2_17_x86_64.manylinux2014_x86_64.whl (60.9 MB)\n",
      "\u001b[2K     \u001b[90m━━━━━━━━━━━━━━━━━━━━━━━━━━━━━━━━━━━━━━━━\u001b[0m \u001b[32m60.9/60.9 MB\u001b[0m \u001b[31m56.8 MB/s\u001b[0m eta \u001b[36m0:00:00\u001b[0m00:01\u001b[0m00:01\u001b[0m\n",
      "\u001b[?25hRequirement already satisfied: numpy>=1.14.5 in /home/ubuntu/.local/lib/python3.8/site-packages (from opencv-python) (1.23.4)\n",
      "Installing collected packages: opencv-python\n",
      "Successfully installed opencv-python-4.6.0.66\n",
      "\n",
      "\u001b[1m[\u001b[0m\u001b[34;49mnotice\u001b[0m\u001b[1;39;49m]\u001b[0m\u001b[39;49m A new release of pip available: \u001b[0m\u001b[31;49m22.3\u001b[0m\u001b[39;49m -> \u001b[0m\u001b[32;49m22.3.1\u001b[0m\n",
      "\u001b[1m[\u001b[0m\u001b[34;49mnotice\u001b[0m\u001b[1;39;49m]\u001b[0m\u001b[39;49m To update, run: \u001b[0m\u001b[32;49mpython3 -m pip install --upgrade pip\u001b[0m\n",
      "Defaulting to user installation because normal site-packages is not writeable\n",
      "Collecting CairoSVG\n",
      "  Downloading CairoSVG-2.5.2-py3-none-any.whl (45 kB)\n",
      "\u001b[2K     \u001b[90m━━━━━━━━━━━━━━━━━━━━━━━━━━━━━━━━━━━━━━━━\u001b[0m \u001b[32m45.8/45.8 kB\u001b[0m \u001b[31m13.5 MB/s\u001b[0m eta \u001b[36m0:00:00\u001b[0m\n",
      "\u001b[?25hRequirement already satisfied: tinycss2 in /home/ubuntu/.local/lib/python3.8/site-packages (from CairoSVG) (1.2.1)\n",
      "Collecting cssselect2\n",
      "  Downloading cssselect2-0.7.0-py3-none-any.whl (15 kB)\n",
      "Requirement already satisfied: pillow in /usr/lib/python3/dist-packages (from CairoSVG) (7.0.0)\n",
      "Requirement already satisfied: defusedxml in /usr/lib/python3/dist-packages (from CairoSVG) (0.6.0)\n",
      "Collecting cairocffi\n",
      "  Downloading cairocffi-1.4.0.tar.gz (69 kB)\n",
      "\u001b[2K     \u001b[90m━━━━━━━━━━━━━━━━━━━━━━━━━━━━━━━━━━━━━━━━\u001b[0m \u001b[32m69.9/69.9 kB\u001b[0m \u001b[31m22.0 MB/s\u001b[0m eta \u001b[36m0:00:00\u001b[0m\n",
      "\u001b[?25h  Preparing metadata (setup.py) ... \u001b[?25ldone\n",
      "\u001b[?25hRequirement already satisfied: cffi>=1.1.0 in /usr/lib/python3/dist-packages (from cairocffi->CairoSVG) (1.14.0)\n",
      "Requirement already satisfied: webencodings in /usr/lib/python3/dist-packages (from cssselect2->CairoSVG) (0.5.1)\n",
      "Building wheels for collected packages: cairocffi\n",
      "  Building wheel for cairocffi (setup.py) ... \u001b[?25ldone\n",
      "\u001b[?25h  Created wheel for cairocffi: filename=cairocffi-1.4.0-py3-none-any.whl size=88776 sha256=3bfc37455a5200e1507922f42717c61b137ed762ba9a16c6d677f5d9565b0396\n",
      "  Stored in directory: /home/ubuntu/.cache/pip/wheels/1e/dd/cc/fa3e4b9431c44de3a623879968de533c456a5c42180ccacab2\n",
      "Successfully built cairocffi\n",
      "Installing collected packages: cairocffi, cssselect2, CairoSVG\n",
      "Successfully installed CairoSVG-2.5.2 cairocffi-1.4.0 cssselect2-0.7.0\n",
      "\n",
      "\u001b[1m[\u001b[0m\u001b[34;49mnotice\u001b[0m\u001b[1;39;49m]\u001b[0m\u001b[39;49m A new release of pip available: \u001b[0m\u001b[31;49m22.3\u001b[0m\u001b[39;49m -> \u001b[0m\u001b[32;49m22.3.1\u001b[0m\n",
      "\u001b[1m[\u001b[0m\u001b[34;49mnotice\u001b[0m\u001b[1;39;49m]\u001b[0m\u001b[39;49m To update, run: \u001b[0m\u001b[32;49mpython3 -m pip install --upgrade pip\u001b[0m\n",
      "Defaulting to user installation because normal site-packages is not writeable\n",
      "Requirement already satisfied: pandas in /home/ubuntu/.local/lib/python3.8/site-packages (1.5.1)\n",
      "Requirement already satisfied: pytz>=2020.1 in /home/ubuntu/.local/lib/python3.8/site-packages (from pandas) (2022.5)\n",
      "Requirement already satisfied: numpy>=1.20.3 in /home/ubuntu/.local/lib/python3.8/site-packages (from pandas) (1.23.4)\n",
      "Requirement already satisfied: python-dateutil>=2.8.1 in /home/ubuntu/.local/lib/python3.8/site-packages (from pandas) (2.8.2)\n",
      "Requirement already satisfied: six>=1.5 in /usr/lib/python3/dist-packages (from python-dateutil>=2.8.1->pandas) (1.14.0)\n",
      "\n",
      "\u001b[1m[\u001b[0m\u001b[34;49mnotice\u001b[0m\u001b[1;39;49m]\u001b[0m\u001b[39;49m A new release of pip available: \u001b[0m\u001b[31;49m22.3\u001b[0m\u001b[39;49m -> \u001b[0m\u001b[32;49m22.3.1\u001b[0m\n",
      "\u001b[1m[\u001b[0m\u001b[34;49mnotice\u001b[0m\u001b[1;39;49m]\u001b[0m\u001b[39;49m To update, run: \u001b[0m\u001b[32;49mpython3 -m pip install --upgrade pip\u001b[0m\n"
     ]
    }
   ],
   "source": [
    "! pip install opencv-python\n",
    "! pip install CairoSVG\n",
    "! pip install pandas"
   ]
  },
  {
   "cell_type": "code",
   "execution_count": 2,
   "metadata": {},
   "outputs": [
    {
     "name": "stderr",
     "output_type": "stream",
     "text": [
      "/home/ubuntu/.local/lib/python3.8/site-packages/pandas/core/computation/expressions.py:20: UserWarning: Pandas requires version '2.7.3' or newer of 'numexpr' (version '2.7.1' currently installed).\n",
      "  from pandas.core.computation.check import NUMEXPR_INSTALLED\n"
     ]
    }
   ],
   "source": [
    "import os\n",
    "import subprocess\n",
    "import zipfile\n",
    "import cairosvg\n",
    "import pandas as pd\n",
    "import json\n",
    "import cv2\n",
    "import re\n",
    "import shutil\n",
    "import json"
   ]
  },
  {
   "cell_type": "code",
   "execution_count": 3,
   "metadata": {},
   "outputs": [
    {
     "name": "stdout",
     "output_type": "stream",
     "text": [
      "created /res directory\n"
     ]
    }
   ],
   "source": [
    "def setup_directories():\n",
    "    # setup directories\n",
    "    try:\n",
    "        os.mkdir('res')\n",
    "        print('created /res directory')\n",
    "    except OSError:\n",
    "        print(\"res/ already exists\")\n",
    "setup_directories()"
   ]
  },
  {
   "cell_type": "code",
   "execution_count": 4,
   "metadata": {},
   "outputs": [],
   "source": [
    "autodraw_url = 'https://storage.googleapis.com/autodraw-assets/Autodraw_illustrations.zip'\n",
    "# fetch Autodraw\n",
    "autodraw_name = 'Autodraw_illustrations.zip'\n",
    "\n",
    "if len([file for file in os.listdir('res/') if autodraw_name in file]) == 0:\n",
    "    subprocess.call(\n",
    "        [\"wget\",\n",
    "         autodraw_url,\n",
    "        \"--directory-prefix=res\"])\n",
    "else:\n",
    "    print(\"autodraw is already downloaded: {}\".\n",
    "            format([file for file in os.listdir('res/') if autodraw_name in file]))"
   ]
  },
  {
   "cell_type": "code",
   "execution_count": 5,
   "metadata": {},
   "outputs": [
    {
     "name": "stdout",
     "output_type": "stream",
     "text": [
      "Autodraw files saved in: res/Autodraw_illustrations\n"
     ]
    }
   ],
   "source": [
    "# unzip\n",
    "fontawesome_dir = ['res/' + file for file in os.listdir('res/') if\n",
    "                    autodraw_name in file and '.zip' in file][0]\n",
    "\n",
    "with zipfile.ZipFile(fontawesome_dir, \"r\") as zip_ref:\n",
    "    zip_ref.extractall(\"res\")\n",
    "\n",
    "autodraw_dir = ['res/' + file for file in os.listdir('res/') if\n",
    "                    'Autodraw' in file and 'zip' not in file][0]\n",
    "\n",
    "print('Autodraw files saved in: {}'.format(autodraw_dir))"
   ]
  },
  {
   "cell_type": "code",
   "execution_count": 6,
   "metadata": {},
   "outputs": [
    {
     "name": "stdout",
     "output_type": "stream",
     "text": [
      "Autodraw directory changed to: res/Autodraw_illustrations/Selman\n"
     ]
    }
   ],
   "source": [
    "# the only rich library is 'Selman'\n",
    "if 'Selman' not in autodraw_dir:\n",
    "    autodraw_dir = os.path.join(autodraw_dir, 'Selman')\n",
    "    print('Autodraw directory changed to: {}'.format(autodraw_dir))\n",
    "else:\n",
    "    print('Autodraw directory is: {}'.format(autodraw_dir))"
   ]
  },
  {
   "cell_type": "code",
   "execution_count": 7,
   "metadata": {},
   "outputs": [],
   "source": [
    "# read svg file -> png data\n",
    "WIDTH = 512\n",
    "HEIGHT = 512\n",
    "png_dir = 'res/autodraw-png'\n",
    "\n",
    "try:\n",
    "    os.mkdir(png_dir)\n",
    "except OSError:\n",
    "    print(\"{} already exists\".format(png_dir))\n",
    "\n",
    "files = sorted(os.listdir(autodraw_dir))\n",
    "\n",
    "filenames = [file.split('.svg')[0] for file in files]\n",
    "textdescrip = [file.replace('-', ' ') for file in filenames]\n",
    "filenames_png = [file + '.png' for file in filenames]"
   ]
  },
  {
   "cell_type": "code",
   "execution_count": 8,
   "metadata": {},
   "outputs": [],
   "source": [
    "for file, filename in zip(files, filenames):\n",
    "    # convert svg to png and resize\n",
    "    cairosvg.svg2png(url=os.path.join(autodraw_dir, file),\n",
    "                     output_width=WIDTH, \n",
    "                     output_height=HEIGHT,\n",
    "                    write_to=os.path.join(png_dir, filename + '.png'))\n",
    "    # convert to 3 channels and black and white\n",
    "    img = cv2.imread(os.path.join(png_dir, filename + '.png'),\n",
    "                        cv2.IMREAD_UNCHANGED)\n",
    "\n",
    "    if len(img.shape) and img.shape[2] == 4:\n",
    "\n",
    "        # change black -> white and white -> black\n",
    "        img[:, :, 0] = 255-img[:, :, 3]\n",
    "        img[:, :, 1] = 255-img[:, :, 3]\n",
    "        img[:, :, 2] = 255-img[:, :, 3]\n",
    "        # remove 4th color channel (4th is alpha channel)\n",
    "        img = img[:, :, :3]\n",
    "\n",
    "        cv2.imwrite(os.path.join(png_dir, filename + '.png'), img)\n",
    "    else:\n",
    "        print(\"Image does not have 4 channels; deleting it: {}\".\n",
    "                format(os.path.join(png_dir, filename + '.png')))\n",
    "        os.unlink(os.path.join(png_dir, filename + '.png'))"
   ]
  },
  {
   "cell_type": "code",
   "execution_count": 9,
   "metadata": {},
   "outputs": [],
   "source": [
    "# re-arrange into the right directory structure\n",
    "# res/autodraw-png/ -> res/autodraw-png-instance/<instance_name>/<filename>.png\n",
    "\n",
    "# create instance directory\n",
    "instance_dir = 'res/autodraw-png-instance'\n",
    "try:\n",
    "    os.mkdir(instance_dir)\n",
    "except OSError:\n",
    "    print(\"{} already exists\".format(instance_dir))\n",
    "\n",
    "files = sorted(os.listdir(png_dir))\n",
    "filenames = [file.split('.png')[0] for file in files]\n",
    "\n",
    "# find unique instances in filenames\n",
    "# split on any non-alphanumeric character and keep everything before the last split\n",
    "instances = [re.split('[^a-zA-Z0-9]', filename)[:-1] for filename in filenames]\n",
    "instances = [' '.join(instance) for instance in instances]\n",
    "# remove dashes from instances\n",
    "instances = [instance.replace('-', ' ') for instance in instances]\n",
    "# make directories for each instance\n",
    "for instance in list(set(instances)):\n",
    "    try:\n",
    "        os.mkdir(os.path.join(instance_dir, instance))\n",
    "    except OSError:\n",
    "        print(\"{} already exists\".format(os.path.join(instance_dir, instance)))\n",
    "# copy instances over to the right directory\n",
    "for file, instance in zip(files, instances):\n",
    "    #instance = re.split('[^a-zA-Z0-9]', file.split('.png')[0])[0]\n",
    "    shutil.copy(os.path.join(png_dir, file), os.path.join(instance_dir, instance))"
   ]
  },
  {
   "cell_type": "code",
   "execution_count": 14,
   "metadata": {},
   "outputs": [],
   "source": [
    "# create a concepts_list.json file\n",
    "# this file will follow the format from here: https://github.com/ShivamShrirao/diffusers/blob/main/examples/dreambooth/concepts_list.json\n",
    "\n",
    "# create a list of all the instances\n",
    "instances = sorted(os.listdir(instance_dir))\n",
    "\n",
    "concept_lists = []\n",
    "for instance in instances:\n",
    "    # instance_token = re.split('[^a-zA-Z0-9]', instance)[0].replace('-', ' ')\n",
    "    # general format for each instance\n",
    "    concept_list = {\n",
    "        \"instance_prompt\": \"black and white {} icon\".format(instance),\n",
    "        \"instance_data_dir\": '../../' + os.path.join(instance_dir, instance),\n",
    "        \"class_prompt\": \"black and white icon\",\n",
    "        \"class_data_dir\": '../../' + png_dir, # this is the same for all instances; all autodraw icons\n",
    "    }\n",
    "    concept_lists.append(concept_list)"
   ]
  },
  {
   "cell_type": "code",
   "execution_count": 15,
   "metadata": {},
   "outputs": [],
   "source": [
    "# write to json file with pretty formatting\n",
    "with open('res/concepts_list.json', 'w') as f:\n",
    "    json.dump(concept_lists, f, indent=4)"
   ]
  },
  {
   "cell_type": "code",
   "execution_count": null,
   "metadata": {},
   "outputs": [],
   "source": [
    "# # move concepts_list to right directory\n",
    "# shutil.copy(os.path.join('res/concepts_list.json'),\n",
    "#             os.path.join('ex"
   ]
  }
 ],
 "metadata": {
  "kernelspec": {
   "display_name": "Python 3",
   "language": "python",
   "name": "python3"
  },
  "language_info": {
   "codemirror_mode": {
    "name": "ipython",
    "version": 3
   },
   "file_extension": ".py",
   "mimetype": "text/x-python",
   "name": "python",
   "nbconvert_exporter": "python",
   "pygments_lexer": "ipython3",
   "version": "3.8.10"
  },
  "vscode": {
   "interpreter": {
    "hash": "dacfab883f97b81f72b346098a89fc2cacfd2387efde41dd119b9d94d10f06d9"
   }
  }
 },
 "nbformat": 4,
 "nbformat_minor": 4
}
