{
 "cells": [
  {
   "cell_type": "markdown",
   "metadata": {},
   "source": [
    "# Font Generation"
   ]
  },
  {
   "cell_type": "code",
   "execution_count": 96,
   "metadata": {},
   "outputs": [],
   "source": [
    "import matplotlib.pyplot as plt\n",
    "import string\n",
    "import os\n",
    "from PIL import Image\n",
    "import cv2\n",
    "import shutil\n",
    "import json"
   ]
  },
  {
   "cell_type": "code",
   "execution_count": 39,
   "metadata": {},
   "outputs": [],
   "source": [
    "# import matplotlib.font_manager\n",
    "# from IPython.core.display import HTML\n",
    "\n",
    "# def make_html(fontname):\n",
    "#     return \"<p>{font}: <span style='font-family:{font}; font-size: 24px;'>{font}</p>\".format(font=fontname)\n",
    "\n",
    "# code = \"\\n\".join([make_html(font) for font in sorted(set([f.name for f in matplotlib.font_manager.fontManager.ttflist]))])\n",
    "\n",
    "# HTML(\"<div style='column-count: 2;'>{}</div>\".format(code))"
   ]
  },
  {
   "cell_type": "code",
   "execution_count": 40,
   "metadata": {},
   "outputs": [],
   "source": [
    "# font descriptions from here: https://danielgreene.com/2010/03/30/fonts-with-descriptions/\n",
    "\n",
    "font_descriptions = {\"Andale Monospaced\": \"is a highly legible monospaced font. Regular only.\",\n",
    "\"Arial\": \"Monotype Drawing Office 1982. A contemporary sans serif design, Arial contains more humanist characteristics than many of its predecessors and as such is more in tune with the mood of the last decades of the twentieth century. The overall treatment of curves is softer and fuller than in most industrial-style sans serif faces. Terminal strokes are cut on the diagonal which helps to give the face a less mechanical appearance. Arial is an extremely versatile family of typefaces which can be used with equal success for text setting in reports, presentations, magazines etc, and for display use in newspapers, advertising and promotions. Regular, Italic, Bold, and Bold Italic. Contains common ligatures that are not apparent in the phrase File systems for affluent field offices.\",\n",
    "\n",
    "\"Arial Black\": \"display use in newspapers, advertising and promotions. Regular only.\",\n",
    "\"Arial Narrow\": \"…an extremely versatile family of typefaces which can be used with equal success for text setting in reports, presentations, magazines etc, and for display use in newspapers, advertising and promotions.\",\n",
    "# \"Arial Rounded MT Bold\": \"…an extremely versatile family of typefaces which can be used with equal success for text setting in reports, presentations, magazines etc, and for display use in newspapers, advertising and promotions.\",\n",
    "\"Arial Unicode MS\": \"This extended version of Monotype's Arial contains glyphs for all code points within The Unicode Standard, Version 2.1. Regular only. Contains typographical features such as common ligatures that are not apparent in the phrase File systems for affluent field offices.\",\n",
    "\n",
    "\"Book Antigua\": \"This is a roman typeface based on pen-drawn letters of the Italian Renaissance. Because it is distinctive and gentle in appearance it can be used to give a document a different feel than is given by the more geometrical designs of most text faces. It is also useful for occasional lines, as in letter headings and compliments slips. Its beautiful italic has many uses of its own (italicization mine for demonstration purposes). Regular, Italic, Bold, and Bold Italic.\",\n",
    "\n",
    "\"Bookman Old Style\": \"The origins of Bookman Old Style lie in the typeface called Oldstyle Antique, designed by A C Phemister circa 1858 for the Miller and Richard foundry in Edinburgh, Scotland. Many American foundries made versions of this type which eventually became known as Bookman. Monotype Bookman Old Style roman is based on earlier Lanston Monotype and ATF models. The italic has been re drawn following the style of the Oldstyle Antique italics of Miller and Richard. Although called 'Old Style', the near vertical stress of the face puts it into the transitional category. A legible and robust text face (italicization mine for demonstration purposes). Regular, Italic, Bold, Bold Italic.\",\n",
    "\n",
    "\"Brush Script MT\": \"This heavy, informal script looks as though it was written with a brush because its lowercase letters join together. Use the uppercase letters primarily as initials, although you might find it interesting to use all CAPITALS of this typeface for some words (capitalization mine for demonstration purposes). Regular only.\",\n",
    "\n",
    "\"Calibri\":  \"is a modern sans serif family with subtle roundings on stems and corners. It features real italics, Small Capitals, and multiple numeral sets. Its proportions allow high impact in tightly set lines of big and small text alike. Calibri's many curves and the new rasteriser team up in bigger sizes to reveal a warm and soft character (italicization and small capitalization mine for demonstration purposes). Regular, Italic, Bold, and Bold Italic. Contains other typographic features such as common ligatures apparent in the phrase File systems for affluent field offices.\",\n",
    "\n",
    "\"Cambria\": \"has been designed for on-screen reading and to look good when printed at small sizes. It has very even spacing and proportions. Diagonal and vertical hairlines and serifs are relatively strong, while horizontal serifs are small and intend to emphasize stroke endings rather than stand out themselves. This principle is most noticeable in the italics where the lowercase characters are subdued in style to be at their best as elements of word-images. When Cambria is used for captions at sizes over 20 point, the inter-character spacing should be slightly reduced for best results. The design isn't just intended for business documents: The regular weight has been extended with a large set of math and science symbols. The Greek and Cyrillic has been designed under close supervision of an international team of experts, who aimed to set a historical new standard in multi-script type design (italicization mine for demonstration purposes). Regular, Italic, Bold, and Bold Italic. Contains Small Capitals and other typographic features such as common ligatures (barely) apparent in the phrase File systems for affluent field offices. (If you magnify the text you'll see that the ascender on the lowercase f before an o curves over farther beyond the crossbar than the f before an i.)\",\n",
    "\n",
    "\"Candara\": \"is a casual humanist sans with verticals showing a graceful entasis on stems, high-branching arcades in the lowercase, large apertures in all open forms, and unique ogee curves on diagonals. The resultant texture is lively but not intrusive, and makes for afriendly and readable text. Regular, Italic, Bold, and Bold Italic. Contains Small Capitals and other typographical features such as common ligatures apparent in the phrase File systems for affluent field offices.\",\n",
    "\n",
    "\"Consolas\": \"is aimed for use in programming environments and other circumstances where a monospaced font is specified. All characters have the same width, like old typewriters, making it a good choice for personal and business correspondence. The improved Windows font display allowed a design with proportions closer to normal text than traditional monospaced fonts like Courier. This allows for more comfortably reading of extended text on screen. OpenType features include hanging or lining numerals; slashed, dotted and normal zeros; and alternative shapes for a number of lowercase letters. The look of text can be tuned to personal taste by varying the number of bars and waves. Regular, Italic, Bold, and Bold Italic.\",\n",
    "\n",
    "\"Constantia\": \"is a modulated wedge-serif typeface designed primarily for continuous text in both electronic and paper publishing. The design responds to the recent narrowing of the gap between screen readability and traditional print media, exploiting specific aspects of the most recent advances in ClearType rendering, such as sub-pixel positioning. The classic proportions of relatively small x-height and long extenders make Constantia ideal for book and journal publishing, while the slight squareness and open counters ensure that it remains legible even at small sizes. Regular, Italic, Bold, and Bold Italic. Contains Small Capitals and other typographical features such as common ligatures apparent in the phrase File systems for affluent field offices.\",\n",
    "\n",
    "\"Corbel\": \"is designed to give an uncluttered and clean appearance on screen. The letter forms are open with soft, flowing curves. It is legible, clear and functional at small sizes. At larger sizes the detailing and style of the shapes is more apparent resulting in a modern sans serif type with a wide range of possible uses. Regular, Italic, Bold, and Bold Italic. Contains Small Capitals and other typographical features such as common ligatures apparent in the phrase File systems for affluent field offices.\",\n",
    "\n",
    "\"Century Gothic\": \"A design based on Monotype 20th Century, which was drawn by Sol Hess between 1936 and 1947. Century Gothic maintains the basic design of 20th Century but has an enlarged 'x' height and has been modified to ensure satisfactory output from modern digital systems. The design is influenced by the geometric style sans serif faces which were popular during the 1920's and 30's. Useful for headlines and general display work and for small quantities of text, particularly in advertising. Regular, Italic, Bold, and Bold Italic.\",\n",
    "\n",
    "\"Century Schoolbook\": \"Another member of the Century family which was based on Century Expanded. Designed to fulfill the need for a solid, legible face for printing schoolbooks. It is wider and heavier than Century Expanded, there is also less contrast between thick and thin strokes. First cut by Monotype in 1934 and based on versions from ATF and Lanston Monotype. The sturdy nature of this typeface, coupled with its inherent legibility, has made it a popular choice for setting books, newspapers and magazines. Regular, Italic, Bold, and Bold Italic.\",\n",
    "\n",
    "\"Comic Sans MS\": \"Designed by Microsoft's Vincent Connare, this is a face based on the lettering from comic magazines. This casual but legible face has proved very popular with a wide variety of people. Regular and Bold.\",\n",
    "\n",
    "\"Curlz MT\": \"Curlz was designed by Steve Matteson and Carl Crossgrove in 1995. For a unique, festive touch, add a little Curlz to posters, flyers, invitations, menus and tee shirts. Regular only.\",\n",
    "\n",
    "\"Didot\": \"The Didot family were active as designers for about 100 years in the 18th and 19th centuries. They were printers, publishers, typeface designers, inventors and intellectuals. Around 1800 the Didot family owned the most important print shop and font foundry in France. Pierre Didot, the printer, published a document with the typefaces of his brother, Firmin Didot, the typeface designer.The strong clear forms of this alphabet display objective, rational characteristics and are representative of the time and philosophy of the Enlightenment. Adrian Frutiger's Didot is a sensitive interpretation of the French Modern Face Didot. Another model for this design is the Henriade, a historical printing of the original Didot from 1818. The font Didot gives text a classic and elegant feel. Regular, bold, and italic. Contains Small Capitals, lining numerals, and old-style numerals, and common ligatures apparent in the phrase File systems for affluent field offices.\",\n",
    "\n",
    "\"Franklin Gothic Book & Franklin Gothic Medium\": \"Designed in 1902 by Morris Fuller Benton for the American Type Founders company, Franklin Gothic Book still reigns as one of the most-widely used sans serif typefaces. Originally issued in only one weight, the ATF version of Franklin Gothic was eventually expanded to include five additional weights, but no light or intermediate weights were ever developed. In 1979, under license from ATF, ITC developed four new weights in roman and italic: book, medium, demi and heavy. Designed by Victor Caruso, ITC's new weights matched the original face's characteristics, but featured a slightly enlarged lowercase x-height. ITC Franklin Gothic also features a slightly condensed lowercase a-z alphabet. In 1991, ITC commissioned the Font Bureau in Boston to create condensed, compressed and extra compressed versions of ITC Franklin Gothic, which increased the flexibility and usefulness of the design. Franklin Gothic Book: Regular and Italic; Franklin Gothic Medium: Regular and Italic.\",\n",
    "\n",
    "\"Futura\": \"Paul Renner (1878-1956) was a painter, typographer, typeface designer and teacher. Between 1908 and 1917 he designed thousands of books for Munich publishers in a refined traditional style. In the early 1920s he began to support the modern styles of architecture and typography, becoming a leading proponent of the New Typography. Renner is best known for designing the typeface Futura, which became a standard tool for the New Typography, and remains a popular typeface today. Futura does give a restful, almost bland impression, which accords with Renner's objectives. Futura seems classical, not only due to the form of its capitals, but also to the open, wide forms of the geometrical small letters. The typeface relies on notions of classical, yet contemporary form, – harmony and evenness of texture. Thanks to the modern digital technology Futura lives on in a greater variety than ever, offering a wide choice of typographic solutions for contemporary design in the new millennium. Medium, Medium Italic, Condensed Medium, and Condensed Extra Bold. Contains common ligatures apparent in the phrase File systems for affluent field offices.\",\n",
    "\n",
    "\"Garamond\": \"This typeface is based on roman types cut by Jean Jannon in 1615. Jannon followed the designs of Claude Garamond which had been cut in the previous century. Garamond's types were, in turn, based on those used by Aldus Manutius in 1495 and cut by Francesco Griffo. The italic is based on types cut in France circa 1557 by Robert Granjon. Garamond is a beautiful typeface with an air of informality which looks good in a wide range of applications. It works particularly well in books and lengthy text settings (italicization mine for demonstration purposes). Regular, Italic, and Bold.\",\n",
    "\n",
    "\"Gill Sans\": \"Monotype Type Drawing Office 1928. Gill studied under the renowned calligrapher, Edward Johnston, the designer of the London Underground sans serif typeface. This influenced Gill who later experimented with sans serif designs, and in due course produced a set of capital letters. These became Monotype series 231, produced in 1923, and the forerunner of the extensive Gill Sans range now available. A twentieth century sans serif that has a simplicity of form which does not reject traditional forms and proportions, and gives the face a humanist feel. The lighter weights are highly readable in text and suitable for magazine and book work, whereas the heavier weights are best used for display in advertising, packaging, and labels. Regular, Light, Italic, Light Italic, Bold, and Bold Italic. Contains common ligatures apparent in the phrase File systems for affluent field offices.\",\n",
    "\n",
    "\"Gill Sans Ultra Bold\": \"…used for display in advertising, packaging, and labels. Regular only.\",\n",
    "\n",
    "\"Helvetica Neue\": \"Helvetica (Latin for Swiss) has the objective and functional style which was associated with Swiss typography in the 1950s and 1960s. It is perfect for international correspondence: no ornament, no emotion, just clear presentation of information. Helvetica is still one of the best selling sans-serif fonts. Regular, Medium, Light, UltraLight, Italic, UltraLight Italic, Bold, Bold Italic, Condensed Bold, and Condensed Black. Contains common ligatures not apparent in the phrase File systems for affluent field offices.\",\n",
    "\n",
    "\"Impact\": \"1965. Designed for the Stephenson Blake type foundry. A very heavy, narrow, sans serif face intended for use in newspapers, for headlines and in advertisements. Aptly named, this face has a very large 'x' height with short ascenders and descenders. Regular only.\",\n",
    "\n",
    "\"Menlo\": \"is based upon the Open Source font Bitstream Vera and the public domain font Deja Vu. Bitstream Vera is a trademark of Bitstream, Inc., designed by Jim Lyles. Menlo is based upon the Open Source font Bitstream Vera and the public domain font Deja Vu. Bitstream Vera is a trademark of Bitstream, Inc., designed by Jim Lyles. Regular, Italic, Bold, and Bold Italic. Contains common ligatures apparent in the phrase. File systems for affluent field offices.\",\n",
    "\n",
    "\"Perpetua\": \"A sensitive adaptation of a style of letter that had been popularized for monumental work in stone by Eric Gill. Large scale drawings by Gill were given to Charles Malin, a Parisian punch-cutter, and his hand cut punches were the basis for the font issued by Monotype. The incised quality of Perpetua will lend distinction to any work compatible with its serenity. First used in a private translation called The Passion of Perpetua and Felicity; the italic was originally called Felicity. Widely used as a text face in quality books, Perpetua is also very popular in advertising and display work. Regular, Italic, Bold, and Bold Italic.\",\n",
    "\n",
    "\"Perpetua Titling\": \"popular in advertising and display work. Light & Bold.\",\n",
    "\n",
    "\"Rockwell\": \"is a distinctive version of a geometric slab serif design, which has retained its popularity since its appearance in the 1930's. The slab serifs, or Egyptians, originated in the nineteenth century when they were used principally for display work. Rockwell is notable for its judiciously clipped slab serifs, and is given a particular sparkle by means of its angular terminals. In more recent years this style of typeface has been increasingly used for text setting where their even colour and visual impact can be fully exploited. Regular, Italic, Bold, and Bold Italic.\",\n",
    "\n",
    "\"Rockwell Extra Bold\": \"used principally for display work. Regular only.\",\n",
    "\n",
    "\"Stencil\": \"Stencil faces have been made for as long as people have been shipping wooden boxes. Most of the letterforms look a bit like a softer, bolder Clarendon before lines are cut through it to allow counters (those little spaces enclosed in 'a', 'b' and other letters) to remain as counters without becoming solid blobs. Consider this Stencil face a decorative font for limited use; a little goes a long way. Regular only.\",\n",
    "\n",
    "\"Trebuchet\": \"…designed by Vincent Connare in 1996, is a humanist sans serif designed for easy screen readability. Trebuchet takes its inspiration from the sans serifs of the 1930s which had large x heights and round features intended to promote readability on signs. The typeface name is credited to a puzzle heard at Microsoft, where the question was asked, 'could you build a Trebuchet (a form of medieval catapult) to launch a person from the main campus to the consumer campus, and how?' The Trebuchet fonts are intended to be the vehicle that fires your messages across the Internet. Launch your message with a Trebuchet page. Regular, Italic, Bold, and Bold Italic.\",\n",
    "\n",
    "\"Zapfino\": \"Today's digital font technology has allowed renowned type designer Hermann Zapf to realise a dream he first had more than fifty years ago: to create a fully calligraphic typeface. Regular only. Contains several typographical features including ligatures apparent in the phrase File systems for affluent field offices\",\n",
    "\n",
    "\"Monotype Corsiva\": \"An italic typeface made in the style of the early Italian cursives, as exemplified by the work of the writing master Ludovico degli Arrighi in the sixteenth century. The capitals are of swash design, with characteristic flourishes, designed primarily for use as initial letters. Corsiva can be used for short text passages in advertising but is best used to add sparkle to invitations, greeting cards and menus, and to give a sense of occasion to certificates and awards. Regular only.\"\n",
    "}\n",
    "\n"
   ]
  },
  {
   "cell_type": "code",
   "execution_count": 41,
   "metadata": {},
   "outputs": [],
   "source": [
    "# available Matplotlib fonts\n",
    "fonts_matplotlib = [f.name for f in matplotlib.font_manager.fontManager.ttflist]"
   ]
  },
  {
   "cell_type": "code",
   "execution_count": 42,
   "metadata": {},
   "outputs": [
    {
     "data": {
      "text/plain": [
       "['Gill Sans',\n",
       " 'Zapfino',\n",
       " 'Didot',\n",
       " 'Brush Script MT',\n",
       " 'Arial Black',\n",
       " 'Helvetica Neue',\n",
       " 'Arial Unicode MS',\n",
       " 'Impact',\n",
       " 'Arial',\n",
       " 'Arial Narrow',\n",
       " 'Comic Sans MS',\n",
       " 'Futura',\n",
       " 'Rockwell',\n",
       " 'Menlo']"
      ]
     },
     "execution_count": 42,
     "metadata": {},
     "output_type": "execute_result"
    }
   ],
   "source": [
    "# fonts in matplotlib that we have a description for:\n",
    "fonts_to_use = [font for font in set(fonts_matplotlib) if font in font_descriptions.keys()]\n",
    "fonts_to_use"
   ]
  },
  {
   "cell_type": "code",
   "execution_count": 84,
   "metadata": {},
   "outputs": [
    {
     "name": "stdout",
     "output_type": "stream",
     "text": [
      "res/ already exists\n"
     ]
    }
   ],
   "source": [
    "def setup_directories():\n",
    "    # setup directories\n",
    "    try:\n",
    "        os.mkdir('res')\n",
    "        print('created /res directory')\n",
    "    except OSError:\n",
    "        print(\"res/ already exists\")\n",
    "setup_directories()"
   ]
  },
  {
   "cell_type": "code",
   "execution_count": 85,
   "metadata": {},
   "outputs": [],
   "source": [
    "dir_raw_png = 'res/fonts-matplotlib-raw/'\n",
    "dir_final_png = 'res/fonts-matplotlib-final/'\n",
    "dir_final_class_png = 'res/fonts-matplotlib-class-final/'\n",
    "\n",
    "try:\n",
    "    os.mkdir(dir_raw_png)\n",
    "except OSError:\n",
    "    print(\"{} already exists\".format(dir_final_png))\n",
    "\n",
    "try:\n",
    "    os.mkdir(dir_final_png)\n",
    "except OSError:\n",
    "    print(\"{} already exists\".format(dir_final_png))\n",
    "\n",
    "try:\n",
    "    os.mkdir(dir_final_class_png)\n",
    "except OSError:\n",
    "    print(\"{} already exists\".format(dir_final_class_png))"
   ]
  },
  {
   "cell_type": "code",
   "execution_count": 86,
   "metadata": {},
   "outputs": [
    {
     "name": "stderr",
     "output_type": "stream",
     "text": [
      "/var/folders/c5/8qdvlg4j6kg9_f9zbmjxykfw0000gn/T/ipykernel_21731/303141137.py:21: DeprecationWarning: ANTIALIAS is deprecated and will be removed in Pillow 10 (2023-07-01). Use Resampling.LANCZOS instead.\n",
      "  img = img.resize((512, 512), Image.ANTIALIAS)\n"
     ]
    }
   ],
   "source": [
    "# plot each letter in each font in matplotlib:\n",
    "for character in string.ascii_letters:\n",
    "    for font in fonts_to_use:\n",
    "        fig, ax = plt.subplots(figsize=(1, 1))\n",
    "        #ax.text(1,2,\"a\", fontsize=12, ha=\"center\")\n",
    "        ax.text(0.5, 0.5, character, fontdict={'fontname': font, 'fontsize':60},\n",
    "                ha='center', va='center', transform=ax.transAxes)\n",
    "        ax.axis('off')\n",
    "        prefix = 'lower' if character.islower() else 'upper'\n",
    "        outfile = os.path.join(dir_raw_png, '{}-{}-{}.png'.format(font, prefix, character))\n",
    "        plt.gcf().set_size_inches(1, 1)\n",
    "        plt.savefig(outfile, bbox_inches='tight', pad_inches=0, dpi=512)\n",
    "        # don't show the figure\n",
    "        plt.close(fig)\n",
    "\n",
    "        # while we're here, re-read the image and resize to 512x512 with a centered crop\n",
    "        img = Image.open(outfile)\n",
    "        # center crop\n",
    "        center = (img.width/2, img.height/2)\n",
    "        # resize to 512x512\n",
    "        img = img.resize((512, 512), Image.ANTIALIAS)\n",
    "\n",
    "\n",
    "        # left = center[0] - 256\n",
    "        # top = center[1] - 256\n",
    "        # right = center[0] + 256\n",
    "        # bottom = center[1] + 256\n",
    "        # img = img.crop((left, top, right, bottom))\n",
    "        # #img = img.crop((0, 0, 512, 512))\n",
    "        # img = img.resize((512, 512), Image.ANTIALIAS)\n",
    "        img.save(outfile)\n",
    "\n",
    "        # img = Image.open(outfile)\n",
    "        # img = img.resize((512, 512), Image.ANTIALIAS)\n",
    "        # img.save(outfile)\n",
    "\n",
    "    \n"
   ]
  },
  {
   "cell_type": "code",
   "execution_count": 87,
   "metadata": {},
   "outputs": [],
   "source": [
    "# need to organize the files into directories\n",
    "\n",
    "# create a directory for each letter\n",
    "for character in string.ascii_letters:\n",
    "    prefix = 'lower' if character.islower() else 'upper'    \n",
    "    dir_letter = os.path.join(dir_final_png, prefix + '-' + character)\n",
    "    try:\n",
    "        os.mkdir(dir_letter)\n",
    "    except OSError:\n",
    "        print(\"{} already exists\".format(dir_letter))\n",
    "\n",
    "\n",
    "# move the files into the appropriate directories\n",
    "for character in string.ascii_letters:\n",
    "    prefix = 'lower' if character.islower() else 'upper'\n",
    "    for font in fonts_to_use:\n",
    "        src = os.path.join(dir_raw_png, '{}-{}-{}.png'.format(font, prefix, character))\n",
    "        dst = os.path.join(dir_final_png, prefix + '-' + character, font + '.png')\n",
    "        shutil.copyfile(src, dst)"
   ]
  },
  {
   "cell_type": "code",
   "execution_count": 88,
   "metadata": {},
   "outputs": [],
   "source": [
    "# make a directory for each font\n",
    "# for font in fonts_to_use:\n",
    "#     dir_font = os.path.join(dir_final_png, font)\n",
    "#     try:\n",
    "#         os.mkdir(dir_font)\n",
    "#     except OSError:\n",
    "#         print(\"{} already exists\".format(dir_font))\n",
    "# copy the files into the appropriate directories\n",
    "for font in fonts_to_use:\n",
    "    # make a directory for each font\n",
    "    dir_font = os.path.join(dir_final_class_png, font)\n",
    "    try:\n",
    "        os.mkdir(dir_font)\n",
    "    except OSError:\n",
    "        print(\"{} already exists\".format(dir_font))\n",
    "    for character in string.ascii_letters:\n",
    "        prefix = 'lower' if character.islower() else 'upper'\n",
    "        src = os.path.join(dir_raw_png, '{}-{}-{}.png'.format(font, prefix, character))\n",
    "        dst = os.path.join(dir_final_class_png, font, '{}-{}-{}.png'.format(font, prefix, character))\n",
    "        shutil.copyfile(src, dst)"
   ]
  },
  {
   "cell_type": "markdown",
   "metadata": {},
   "source": [
    "# Create the concept list json"
   ]
  },
  {
   "cell_type": "code",
   "execution_count": 92,
   "metadata": {},
   "outputs": [],
   "source": [
    "# create a concepts_list.json file\n",
    "# this file will follow the format from here: https://github.com/ShivamShrirao/diffusers/blob/main/examples/dreambooth/concepts_list.json\n",
    "\n",
    "# create a list of all the instances (each letter)\n",
    "instances = sorted(os.listdir(dir_final_png)) # dir_final_png is the directory with all the letters\n",
    "# create a list of all the classes (each font)\n",
    "classes = sorted(os.listdir(dir_final_class_png)) # dir_final_class_png is the directory with all the fonts\n",
    "\n",
    "concept_lists = []\n",
    "# iterate over each instance and class\n",
    "for instance in instances:\n",
    "    for class_ in classes:\n",
    "        # instance_token = re.split('[^a-zA-Z0-9]', instance)[0].replace('-', ' ')\n",
    "        # general format for each instance\n",
    "        concept_list = {\n",
    "            \"instance_prompt\": \"{} font\".format(instance),\n",
    "            \"instance_data_dir\": os.path.join(dir_final_png, instance),\n",
    "            \"class_prompt\": \"{} {}\".format(class_, font_descriptions[class_]),\n",
    "            \"class_data_dir\": os.path.join(dir_final_class_png, class_), # this is the same for all instances; all autodraw icons\n",
    "        }\n",
    "        concept_lists.append(concept_list)"
   ]
  },
  {
   "cell_type": "code",
   "execution_count": 95,
   "metadata": {},
   "outputs": [
    {
     "data": {
      "text/plain": [
       "728"
      ]
     },
     "execution_count": 95,
     "metadata": {},
     "output_type": "execute_result"
    }
   ],
   "source": [
    "len(concept_lists)"
   ]
  },
  {
   "cell_type": "code",
   "execution_count": 99,
   "metadata": {},
   "outputs": [],
   "source": [
    "# write to json file with pretty formatting\n",
    "with open('res/concepts_list_fonts.json', 'w') as f:\n",
    "    json.dump(concept_lists, f, indent=4)"
   ]
  },
  {
   "cell_type": "code",
   "execution_count": null,
   "metadata": {},
   "outputs": [],
   "source": []
  }
 ],
 "metadata": {
  "kernelspec": {
   "display_name": "Python 3.10.8 ('venv': venv)",
   "language": "python",
   "name": "python3"
  },
  "language_info": {
   "codemirror_mode": {
    "name": "ipython",
    "version": 3
   },
   "file_extension": ".py",
   "mimetype": "text/x-python",
   "name": "python",
   "nbconvert_exporter": "python",
   "pygments_lexer": "ipython3",
   "version": "3.10.8"
  },
  "orig_nbformat": 4,
  "vscode": {
   "interpreter": {
    "hash": "dacfab883f97b81f72b346098a89fc2cacfd2387efde41dd119b9d94d10f06d9"
   }
  }
 },
 "nbformat": 4,
 "nbformat_minor": 2
}
